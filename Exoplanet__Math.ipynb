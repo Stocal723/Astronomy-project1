{
  "nbformat": 4,
  "nbformat_minor": 0,
  "metadata": {
    "colab": {
      "provenance": [],
      "authorship_tag": "ABX9TyNGgx8Q+wSisbwTrr+Spt1U",
      "include_colab_link": true
    },
    "kernelspec": {
      "name": "python3",
      "display_name": "Python 3"
    },
    "language_info": {
      "name": "python"
    }
  },
  "cells": [
    {
      "cell_type": "markdown",
      "metadata": {
        "id": "view-in-github",
        "colab_type": "text"
      },
      "source": [
        "<a href=\"https://colab.research.google.com/github/Stocal723/Astronomy-project1/blob/main/Exoplanet__Math.ipynb\" target=\"_parent\"><img src=\"https://colab.research.google.com/assets/colab-badge.svg\" alt=\"Open In Colab\"/></a>"
      ]
    },
    {
      "cell_type": "code",
      "execution_count": 4,
      "metadata": {
        "id": "TUijeNcg5ywx"
      },
      "outputs": [],
      "source": [
        "import astropy.units as u\n",
        "import astropy.constants as c"
      ]
    },
    {
      "cell_type": "code",
      "source": [
        "delta_earth_sun= (u.earthRad/ u.solRad)**2"
      ],
      "metadata": {
        "id": "nwjwCZ5N6NWj"
      },
      "execution_count": 6,
      "outputs": []
    },
    {
      "cell_type": "code",
      "source": [
        "print(delta_earth_sun.decompose())"
      ],
      "metadata": {
        "colab": {
          "base_uri": "https://localhost:8080/"
        },
        "id": "F7PRNfyF6kfw",
        "outputId": "ba63cb6a-b974-412b-ab45-0c07a7a2eee4"
      },
      "execution_count": 13,
      "outputs": [
        {
          "output_type": "stream",
          "name": "stdout",
          "text": [
            "8.40502e-05\n"
          ]
        }
      ]
    },
    {
      "cell_type": "code",
      "source": [
        "delta_jupiter_sun= (u.jupiterRad/ u.solRad)**2"
      ],
      "metadata": {
        "id": "JvTOLTyh7Me3"
      },
      "execution_count": 10,
      "outputs": []
    },
    {
      "cell_type": "code",
      "source": [
        "print(delta_jupiter_sun.decompose())"
      ],
      "metadata": {
        "colab": {
          "base_uri": "https://localhost:8080/"
        },
        "id": "i5VyM6vM7lnl",
        "outputId": "eb177df1-7030-484d-f0a9-8e21075a3f4b"
      },
      "execution_count": 12,
      "outputs": [
        {
          "output_type": "stream",
          "name": "stdout",
          "text": [
            "0.0105602\n"
          ]
        }
      ]
    },
    {
      "cell_type": "code",
      "source": [
        "import numpy as np\n",
        "v_orb_earth = np.sqrt(c.G*u.solMass/u.AU)\n",
        "print(v_orb_earth.to(u.m/u.s))"
      ],
      "metadata": {
        "colab": {
          "base_uri": "https://localhost:8080/"
        },
        "id": "XhwNgEL38lDX",
        "outputId": "c0f231ed-7f0a-467f-d3c5-881b578a2aec"
      },
      "execution_count": 18,
      "outputs": [
        {
          "output_type": "stream",
          "name": "stdout",
          "text": [
            "29784.691829676933 m / s\n"
          ]
        }
      ]
    },
    {
      "cell_type": "code",
      "source": [
        "v_sun = u.earthMass / u.solMass * v_orb_earth\n",
        "print(v_sun.to(u.m/u.s))"
      ],
      "metadata": {
        "colab": {
          "base_uri": "https://localhost:8080/"
        },
        "id": "tpTPgKBV9UYz",
        "outputId": "4bb7cea4-2ac9-46de-a937-18900e619622"
      },
      "execution_count": 19,
      "outputs": [
        {
          "output_type": "stream",
          "name": "stdout",
          "text": [
            "0.08945800466923791 m / s\n"
          ]
        }
      ]
    },
    {
      "cell_type": "code",
      "source": [
        "0.09*u.m/u.s*(u.jupiterMass/u.solMass)*(11.9)"
      ],
      "metadata": {
        "id": "vG2gsfbFCntm"
      },
      "execution_count": null,
      "outputs": []
    },
    {
      "cell_type": "code",
      "source": [
        "(u.jupiterMass/u.earthmass).decompose()"
      ],
      "metadata": {
        "id": "FkaITvrWC895"
      },
      "execution_count": null,
      "outputs": []
    },
    {
      "cell_type": "code",
      "source": [
        "rho_earth =u.earthMass/(4*u.earthRad**3/3.0)\n",
        "print(rho_earth"
      ],
      "metadata": {
        "id": "qjlgiCsFDIOL"
      },
      "execution_count": null,
      "outputs": []
    }
  ]
}