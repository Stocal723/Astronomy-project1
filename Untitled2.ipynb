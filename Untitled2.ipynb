{
  "nbformat": 4,
  "nbformat_minor": 0,
  "metadata": {
    "colab": {
      "provenance": [],
      "authorship_tag": "ABX9TyOxLGsXFKbigvBuKbVDcgx2",
      "include_colab_link": true
    },
    "kernelspec": {
      "name": "python3",
      "display_name": "Python 3"
    },
    "language_info": {
      "name": "python"
    }
  },
  "cells": [
    {
      "cell_type": "markdown",
      "metadata": {
        "id": "view-in-github",
        "colab_type": "text"
      },
      "source": [
        "<a href=\"https://colab.research.google.com/github/Stocal723/Astronomy-project1/blob/main/Untitled2.ipynb\" target=\"_parent\"><img src=\"https://colab.research.google.com/assets/colab-badge.svg\" alt=\"Open In Colab\"/></a>"
      ]
    },
    {
      "cell_type": "code",
      "execution_count": 1,
      "metadata": {
        "colab": {
          "base_uri": "https://localhost:8080/"
        },
        "id": "BZkS1UL2Kt4j",
        "outputId": "4cf743c3-ed40-45e4-85e0-58be2ff3d513"
      },
      "outputs": [
        {
          "output_type": "stream",
          "name": "stdout",
          "text": [
            "The estimated age of the universe is approximately 13977715372.77 years.\n"
          ]
        }
      ],
      "source": [
        "# Hubble constant in km/s/Mpc\n",
        "H0 = 70\n",
        "\n",
        "# Convert Mpc to km\n",
        "Mpc_to_km = 3.086e+19\n",
        "\n",
        "# Calculate the Hubble time in seconds\n",
        "Hubble_time_seconds = (1 / H0) * Mpc_to_km\n",
        "\n",
        "# Convert seconds to years\n",
        "seconds_to_years = 3.154e+7\n",
        "\n",
        "# Calculate the age of the universe in years\n",
        "age_of_universe_years = Hubble_time_seconds / seconds_to_years\n",
        "\n",
        "print(f\"The estimated age of the universe is approximately {age_of_universe_years:.2f} years.\")\n"
      ]
    }
  ]
}