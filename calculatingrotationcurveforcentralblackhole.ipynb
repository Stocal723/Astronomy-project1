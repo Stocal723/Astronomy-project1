{
  "nbformat": 4,
  "nbformat_minor": 0,
  "metadata": {
    "colab": {
      "provenance": [],
      "toc_visible": true,
      "authorship_tag": "ABX9TyOyybmpTspQKCQDcF4lB4vW",
      "include_colab_link": true
    },
    "kernelspec": {
      "name": "python3",
      "display_name": "Python 3"
    },
    "language_info": {
      "name": "python"
    }
  },
  "cells": [
    {
      "cell_type": "markdown",
      "metadata": {
        "id": "view-in-github",
        "colab_type": "text"
      },
      "source": [
        "<a href=\"https://colab.research.google.com/github/Stocal723/Temp/blob/main/calculatingrotationcurveforcentralblackhole.ipynb\" target=\"_parent\"><img src=\"https://colab.research.google.com/assets/colab-badge.svg\" alt=\"Open In Colab\"/></a>"
      ]
    },
    {
      "cell_type": "code",
      "source": [
        "import astropy.units as u\n",
        "import astropy.constants as ac\n",
        "import numpy as np"
      ],
      "metadata": {
        "id": "5QwQuMsmbojY"
      },
      "execution_count": null,
      "outputs": []
    },
    {
      "cell_type": "markdown",
      "source": [
        "How to define a function?"
      ],
      "metadata": {
        "id": "v4m909kBcAmP"
      }
    },
    {
      "cell_type": "code",
      "source": [
        "def calculatingOrbitalVelocity(M,R):\n",
        "    \"\"\"\n",
        "    This is a function that calculates the orbital velocity\n",
        "    Imput:\n",
        "    M,the mass of the planet\n",
        "    R,the radius of the planet\n",
        "    Output:\n",
        "    V,the orbital velocity\n",
        "    \"\"\"\n",
        "    V = np.sqrt(ac.G*M/R)\n",
        "    return V"
      ],
      "metadata": {
        "id": "MH6eerlqcGmI"
      },
      "execution_count": null,
      "outputs": []
    },
    {
      "cell_type": "code",
      "source": [
        "# Below we define imput M and R\n",
        "M=1*u.earthMass\n",
        "R=1*u.earthRad\n",
        "\n",
        "# Calculating orbital velocity of an earth satellite\n",
        "v_earthSatelitte = calculatingOrbitalVelocity(M,R)#using the predefined function\n",
        "print(v_earthSatelitte.to(u.km/u.s))\n"
      ],
      "metadata": {
        "colab": {
          "base_uri": "https://localhost:8080/"
        },
        "id": "TMuxf029da-Y",
        "outputId": "0fc50bb3-b089-469f-aa71-1d9a65a1f853"
      },
      "execution_count": null,
      "outputs": [
        {
          "output_type": "stream",
          "name": "stdout",
          "text": [
            "7.905388234385281 km / s\n"
          ]
        }
      ]
    },
    {
      "cell_type": "code",
      "source": [
        "R_planet_arr=np.array([0.4,0.7,1.0,1.5,5.2,9.6,19.2,30.1])*u.au"
      ],
      "metadata": {
        "id": "B2nSwpbuf_l4"
      },
      "execution_count": null,
      "outputs": []
    },
    {
      "cell_type": "code",
      "source": [
        "M_sun=1*u.solMass\n",
        "v_planet_arr=calculatingOrbitalVelocity(M_sun,R_planet_arr)\n",
        "print(v_planet_arr.to(u.km/u.s))"
      ],
      "metadata": {
        "colab": {
          "base_uri": "https://localhost:8080/"
        },
        "id": "mKhqdTEJg0J4",
        "outputId": "bacb7513-c04d-40db-c912-9bcdb15ac180"
      },
      "execution_count": null,
      "outputs": [
        {
          "output_type": "stream",
          "name": "stdout",
          "text": [
            "[47.09373279 35.5995158  29.78469183 24.31909904 13.06145141  9.61296795\n",
            "  6.79739483  5.42887526] km / s\n"
          ]
        }
      ]
    },
    {
      "cell_type": "code",
      "source": [
        "# prompt: Can u help me with plotting v_planet_arr and R_planet_arr\n",
        "\n",
        "import matplotlib.pyplot as plt\n",
        "\n",
        "plt.plot(R_planet_arr, v_planet_arr.to(u.km/u.s))\n",
        "plt.xlabel(\"Radius (AU)\")\n",
        "plt.ylabel(\"Velocity (km/s)\")\n",
        "plt.title(\"Orbital Velocity vs. Radius\")\n",
        "plt.show()\n"
      ],
      "metadata": {
        "colab": {
          "base_uri": "https://localhost:8080/",
          "height": 472
        },
        "id": "W6edIofnhYr4",
        "outputId": "d36441c6-a1dd-47af-df2c-e8cd5235e998"
      },
      "execution_count": null,
      "outputs": [
        {
          "output_type": "display_data",
          "data": {
            "text/plain": [
              "<Figure size 640x480 with 1 Axes>"
            ],
            "image/png": "[encoded data removed]"
          },
          "metadata": {}
        }
      ]
    },
    {
      "cell_type": "code",
      "source": [
        "# prompt: What is the mass of the central massive black hole in the milky ways\n",
        "\n",
        "# Define the orbital velocity and radius of the star S2\n",
        "v_S2 = 7650*u.km/u.s\n",
        "r_S2 = 120*u.au\n",
        "\n",
        "# Calculate the mass of the black hole using the formula M = v^2*r/G\n",
        "M_bh = v_S2**2 * r_S2 / ac.G\n",
        "\n",
        "# Print the mass of the black hole in solar masses\n",
        "print(M_bh.to(u.solMass))\n"
      ],
      "metadata": {
        "colab": {
          "base_uri": "https://localhost:8080/"
        },
        "id": "w34ZbVN9mSBU",
        "outputId": "aebe1811-0574-4cf6-b90a-8eca05b89c40"
      },
      "execution_count": null,
      "outputs": [
        {
          "output_type": "stream",
          "name": "stdout",
          "text": [
            "7916220.714236661 solMass\n"
          ]
        }
      ]
    }
  ]
}